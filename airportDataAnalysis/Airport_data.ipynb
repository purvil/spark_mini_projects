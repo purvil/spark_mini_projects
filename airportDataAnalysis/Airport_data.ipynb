{
 "cells": [
  {
   "cell_type": "markdown",
   "metadata": {},
   "source": [
    "* We have airport data in data directory in text file format.\n",
    "* We are given airpirt id, name of airport, city name, IATA/FAA code, contry of airpirt, ICAO code, latitude, altitude, longitude, timezone DST, timezone in olson"
   ]
  },
  {
   "cell_type": "markdown",
   "metadata": {},
   "source": [
    "### Import necessary package"
   ]
  },
  {
   "cell_type": "code",
   "execution_count": 2,
   "metadata": {},
   "outputs": [],
   "source": [
    "import findspark\n",
    "findspark.init('/home/purvil/spark-2.4.3-bin-hadoop2.7')\n",
    "\n",
    "from pyspark.sql import SparkSession\n",
    "spark = SparkSession.builder.appName('airport').getOrCreate()"
   ]
  },
  {
   "cell_type": "markdown",
   "metadata": {},
   "source": [
    "### Read data in RDD"
   ]
  },
  {
   "cell_type": "code",
   "execution_count": 11,
   "metadata": {},
   "outputs": [],
   "source": [
    "airport = spark.sparkContext.textFile(\"data/airports.text\")"
   ]
  },
  {
   "cell_type": "code",
   "execution_count": 12,
   "metadata": {},
   "outputs": [
    {
     "data": {
      "text/plain": [
       "['1,\"Goroka\",\"Goroka\",\"Papua New Guinea\",\"GKA\",\"AYGA\",-6.081689,145.391881,5282,10,\"U\",\"Pacific/Port_Moresby\"',\n",
       " '2,\"Madang\",\"Madang\",\"Papua New Guinea\",\"MAG\",\"AYMD\",-5.207083,145.7887,20,10,\"U\",\"Pacific/Port_Moresby\"']"
      ]
     },
     "execution_count": 12,
     "metadata": {},
     "output_type": "execute_result"
    }
   ],
   "source": [
    "airport.take(2)"
   ]
  },
  {
   "cell_type": "markdown",
   "metadata": {},
   "source": [
    "#### Find all airport located in the United States"
   ]
  },
  {
   "cell_type": "code",
   "execution_count": 13,
   "metadata": {},
   "outputs": [],
   "source": [
    "import re\n",
    "COMMA_DELIMITER = re.compile(''',(?=(?:[^\"]*\"[^\"]*\")*[^\"]*$)''')"
   ]
  },
  {
   "cell_type": "code",
   "execution_count": 14,
   "metadata": {},
   "outputs": [],
   "source": [
    "airportInUSA = airport.filter(lambda line:COMMA_DELIMITER.split(line)[3] == \"\\\"United States\\\"\")"
   ]
  },
  {
   "cell_type": "code",
   "execution_count": 15,
   "metadata": {},
   "outputs": [
    {
     "data": {
      "text/plain": [
       "['6891,\"Putnam County Airport\",\"Greencastle\",\"United States\",\"4I7\",\\\\N,39.6335556,-86.8138056,842,-5,\"U\",\"America/New_York\"',\n",
       " '6890,\"Dowagiac Municipal Airport\",\"Dowagiac\",\"United States\",\"C91\",\\\\N,41.9929342,-86.1280125,748,-5,\"U\",\"America/New_York\"']"
      ]
     },
     "execution_count": 15,
     "metadata": {},
     "output_type": "execute_result"
    }
   ],
   "source": [
    "airportInUSA.take(2)"
   ]
  },
  {
   "cell_type": "code",
   "execution_count": 19,
   "metadata": {},
   "outputs": [],
   "source": [
    "def splitComma(line):\n",
    "    splits = COMMA_DELIMITER.split(line)\n",
    "    return splits[1], splits[2]"
   ]
  },
  {
   "cell_type": "code",
   "execution_count": 20,
   "metadata": {},
   "outputs": [],
   "source": [
    "airportsNameAndCityNames = airportInUSA.map(splitComma)"
   ]
  },
  {
   "cell_type": "code",
   "execution_count": 21,
   "metadata": {},
   "outputs": [
    {
     "data": {
      "text/plain": [
       "[('\"Putnam County Airport\"', '\"Greencastle\"'),\n",
       " ('\"Dowagiac Municipal Airport\"', '\"Dowagiac\"')]"
      ]
     },
     "execution_count": 21,
     "metadata": {},
     "output_type": "execute_result"
    }
   ],
   "source": [
    "airportsNameAndCityNames.take(2)"
   ]
  },
  {
   "cell_type": "code",
   "execution_count": 22,
   "metadata": {},
   "outputs": [],
   "source": [
    "airportsNameAndCityNames.saveAsTextFile('out/airports_in_usa.text')"
   ]
  },
  {
   "cell_type": "markdown",
   "metadata": {},
   "source": [
    "#### Find all airports whose latitude are bigger than 40"
   ]
  },
  {
   "cell_type": "code",
   "execution_count": 29,
   "metadata": {},
   "outputs": [],
   "source": [
    "airport_lat_more_40 = airport.filter(lambda line:float(COMMA_DELIMITER.split(line)[6]) > 40)"
   ]
  },
  {
   "cell_type": "code",
   "execution_count": 30,
   "metadata": {},
   "outputs": [
    {
     "data": {
      "text/plain": [
       "['7,\"Narsarsuaq\",\"Narssarssuaq\",\"Greenland\",\"UAK\",\"BGBW\",61.160517,-45.425978,112,-3,\"E\",\"America/Godthab\"',\n",
       " '8,\"Nuuk\",\"Godthaab\",\"Greenland\",\"GOH\",\"BGGH\",64.190922,-51.678064,283,-3,\"E\",\"America/Godthab\"']"
      ]
     },
     "execution_count": 30,
     "metadata": {},
     "output_type": "execute_result"
    }
   ],
   "source": [
    "airport_lat_more_40.take(2)"
   ]
  },
  {
   "cell_type": "code",
   "execution_count": 31,
   "metadata": {},
   "outputs": [],
   "source": [
    "airportsNameAndCityNames = airport_lat_more_40.map(splitComma)"
   ]
  },
  {
   "cell_type": "code",
   "execution_count": 32,
   "metadata": {},
   "outputs": [],
   "source": [
    "airportsNameAndCityNames.saveAsTextFile(\"out/airport_by_lat.txt\")"
   ]
  },
  {
   "cell_type": "code",
   "execution_count": null,
   "metadata": {},
   "outputs": [],
   "source": []
  }
 ],
 "metadata": {
  "kernelspec": {
   "display_name": "Python 3",
   "language": "python",
   "name": "python3"
  },
  "language_info": {
   "codemirror_mode": {
    "name": "ipython",
    "version": 3
   },
   "file_extension": ".py",
   "mimetype": "text/x-python",
   "name": "python",
   "nbconvert_exporter": "python",
   "pygments_lexer": "ipython3",
   "version": "3.6.7"
  }
 },
 "nbformat": 4,
 "nbformat_minor": 2
}
